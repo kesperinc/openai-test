{
 "cells": [
  {
   "cell_type": "code",
   "execution_count": null,
   "metadata": {},
   "outputs": [],
   "source": [
    "import re\n",
    "from collections import Counter\n",
    "from konlpy.tag import Mecab"
   ]
  },
  {
   "cell_type": "code",
   "execution_count": null,
   "metadata": {},
   "outputs": [],
   "source": [
    "# Mecab 객체 생성\n",
    "m = Mecab()\n",
    "\n",
    "# 처리할 파일들의 리스트를 가져옴\n",
    "file_list = ['1gapja.txt', '2gapsul.txt', '3gapsin.txt', '4gapo.txt', '5gapjin.txt', '6gapin.txt']"
   ]
  },
  {
   "cell_type": "code",
   "execution_count": null,
   "metadata": {},
   "outputs": [],
   "source": [
    "# 단어별로 파일명과 챕터를 저장할 딕셔너리 생성\n",
    "hanja_info = {}\n",
    "\n",
    "# 숫자 및 원숫자 제거를 위한 정규 표현식\n",
    "number_pattern = re.compile(r'[0-9①②③④⑤⑥⑦⑧⑨⑩]+')\n",
    "\n",
    "# 한자만 있는 경우를 처리하기 위한 정규 표현식\n",
    "hanja_only_pattern = re.compile(r'[一-龥]{2,}')\n",
    "\n",
    "# 챕터 패턴: 간지+일 제X국 형태를 매칭\n",
    "chapter_pattern = re.compile(r'[甲乙丙丁戊己庚辛壬癸][子丑寅卯辰巳午未申酉戌亥]日\\s第[一二三四五六七八九十百千]+局')"
   ]
  },
  {
   "cell_type": "code",
   "execution_count": null,
   "metadata": {},
   "outputs": [],
   "source": [
    "# 각 파일을 읽고 한자 단어들을 추출하여 딕셔너리에 추가\n",
    "for file_name in file_list:\n",
    "    with open(file_name, 'r', encoding='utf-8') as file:\n",
    "        content = file.read().strip()\n",
    "        \n",
    "        # 파일의 현재 챕터를 추적하기 위한 변수\n",
    "        current_chapter = None\n",
    "        \n",
    "        # 숫자 및 원숫자를 먼저 제거\n",
    "        content = number_pattern.sub('', content)\n",
    "\n",
    "        # 챕터를 찾기\n",
    "        lines = content.splitlines()\n",
    "        for line in lines:\n",
    "            chapter_match = chapter_pattern.search(line)\n",
    "            if chapter_match:\n",
    "                current_chapter = chapter_match.group()\n",
    "\n",
    "            # 한자만 있는 경우를 추출하여 저장\n",
    "            matches_hanja_only = hanja_only_pattern.findall(line)\n",
    "            for match in matches_hanja_only:\n",
    "                if len(match) >= 2:  # 두 글자 이상인 경우만 저장\n",
    "                    if match not in hanja_info:\n",
    "                        hanja_info[match] = set()  # 챕터별로 저장하기 위해 set 사용\n",
    "                    hanja_info[match].add(current_chapter)\n",
    "\n",
    "# 각 한자 단어가 등장한 챕터 수를 계산\n",
    "hanja_chapter_counts = {hanja: len(chapters) for hanja, chapters in hanja_info.items()}\n",
    "\n",
    "# 등장 횟수에 따라 내림차순으로 정렬\n",
    "sorted_hanja_by_count = sorted(hanja_chapter_counts.items(), key=lambda x: x[1], reverse=True)\n",
    "\n",
    "# 결과를 출력 및 저장\n",
    "with open('jikji_hanja_frequency_sorted.txt', 'w', encoding='utf-8') as result_file:\n",
    "    for hanja, count in sorted_hanja_by_count:\n",
    "        result_file.write(f\"{hanja}: {count}개 챕터에서 등장\\n\")\n",
    "\n",
    "print(\"한자 단어가 등장한 챕터 수에 따라 정렬된 결과가 jikji_hanja_frequency_sorted.txt 파일에 저장되었습니다.\")\n"
   ]
  }
 ],
 "metadata": {
  "language_info": {
   "name": "python"
  }
 },
 "nbformat": 4,
 "nbformat_minor": 2
}
