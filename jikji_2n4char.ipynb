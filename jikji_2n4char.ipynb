{
 "cells": [
  {
   "cell_type": "code",
   "execution_count": 1,
   "metadata": {},
   "outputs": [],
   "source": [
    "import re\n",
    "from konlpy.tag import Mecab\n",
    "\n",
    "# Mecab 객체 생성\n",
    "m = Mecab()\n",
    "\n",
    "# 처리할 파일들의 리스트를 가져옴\n",
    "file_list = ['1gapja.txt', '2gapsul.txt', '3gapsin.txt', '4gapo.txt', '5gapjin.txt', '6gapin.txt']\n",
    "\n",
    "# 중복을 제거하기 위해 명사들을 저장할 집합(set) 생성\n",
    "unique_nouns = set()\n",
    "unique_nouns_4char = set()\n",
    "\n",
    "# 숫자 및 원숫자 제거를 위한 정규 표현식\n",
    "number_pattern = re.compile(r'[0-9①②③④⑤⑥⑦⑧⑨⑩]+')\n",
    "\n",
    "# 한글(한자), 한글(한자): 패턴과 한자만 있는 경우를 처리하기 위한 정규 표현식\n",
    "hanja_hangul_pattern = re.compile(r'(\\w+)\\([一-龥]+\\)(:)?')\n",
    "hanja_only_pattern = re.compile(r'[一-龥]{2,}')"
   ]
  },
  {
   "cell_type": "code",
   "execution_count": 2,
   "metadata": {},
   "outputs": [
    {
     "name": "stdout",
     "output_type": "stream",
     "text": [
      "모든 파일에서 중복되지 않는 2글자 이상의 명사는 jikji_2char.txt에 저장되었습니다.\n",
      "모든 파일에서 중복되지 않는 4글자 이상의 명사는 jikji_4char.txt에 저장되었습니다.\n"
     ]
    }
   ],
   "source": [
    "# 각 파일을 읽고 명사를 추출하여 집합에 추가\n",
    "for file_name in file_list:\n",
    "    with open(file_name, 'r', encoding='utf-8') as file:\n",
    "        content = file.read().strip()\n",
    "\n",
    "        # 숫자 및 원숫자를 먼저 제거\n",
    "        content = number_pattern.sub('', content)\n",
    "\n",
    "        # 한글(한자), 한글(한자): 패턴을 추출하여 저장\n",
    "        matches = hanja_hangul_pattern.findall(content)\n",
    "        for match in matches:\n",
    "            # 첫 번째 그룹 (한글) 부분만 사용\n",
    "            unique_nouns.add(match[0])\n",
    "            if len(match[0]) >= 4:\n",
    "                unique_nouns_4char.add(match[0])\n",
    "        \n",
    "        # 한자만 있는 경우를 처리하여 저장\n",
    "        matches_hanja_only = hanja_only_pattern.findall(content)\n",
    "        for match in matches_hanja_only:\n",
    "            unique_nouns.add(match)\n",
    "            if len(match) >= 4:\n",
    "                unique_nouns_4char.add(match)\n",
    "\n",
    "        # 한글(한자) 및 한자 패턴을 제거한 나머지 텍스트에 대해 형태소 분석\n",
    "        content = hanja_hangul_pattern.sub('', content)\n",
    "        content = hanja_only_pattern.sub('', content)\n",
    "        nouns = m.nouns(content)\n",
    "        \n",
    "        # 2글자 이상인 명사 필터링\n",
    "        for noun in nouns:\n",
    "            if len(noun) >= 2:\n",
    "                unique_nouns.add(noun)\n",
    "            if len(noun) >= 4:\n",
    "                unique_nouns_4char.add(noun)\n",
    "\n",
    "# 집합을 리스트로 변환하고 사전순으로 정렬\n",
    "sorted_nouns = sorted(unique_nouns)\n",
    "sorted_nouns_4char = sorted(unique_nouns_4char)\n",
    "\n",
    "# 2글자 이상의 명사를 jikji_2char.txt 파일에 저장\n",
    "with open('jikji_2char.txt', 'w', encoding='utf-8') as result_file:\n",
    "    result_file.write('\\n'.join(sorted_nouns))\n",
    "\n",
    "# 4글자 이상의 명사를 jikji_4char.txt 파일에 저장\n",
    "with open('jikji_4char.txt', 'w', encoding='utf-8') as result_4char_file:\n",
    "    result_4char_file.write('\\n'.join(sorted_nouns_4char))\n",
    "\n",
    "print(\"모든 파일에서 중복되지 않는 2글자 이상의 명사는 jikji_2char.txt에 저장되었습니다.\")\n",
    "print(\"모든 파일에서 중복되지 않는 4글자 이상의 명사는 jikji_4char.txt에 저장되었습니다.\")"
   ]
  },
  {
   "cell_type": "code",
   "execution_count": null,
   "metadata": {},
   "outputs": [],
   "source": []
  }
 ],
 "metadata": {
  "kernelspec": {
   "display_name": "dalle-test",
   "language": "python",
   "name": "python3"
  },
  "language_info": {
   "codemirror_mode": {
    "name": "ipython",
    "version": 3
   },
   "file_extension": ".py",
   "mimetype": "text/x-python",
   "name": "python",
   "nbconvert_exporter": "python",
   "pygments_lexer": "ipython3",
   "version": "3.12.3"
  }
 },
 "nbformat": 4,
 "nbformat_minor": 2
}
